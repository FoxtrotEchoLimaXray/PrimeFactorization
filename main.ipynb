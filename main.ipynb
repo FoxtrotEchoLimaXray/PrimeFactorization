{
 "cells": [
  {
   "cell_type": "markdown",
   "metadata": {},
   "source": [
    "# Prime decomposition\n",
    "--- "
   ]
  },
  {
   "cell_type": "markdown",
   "metadata": {},
   "source": [
    "### Documentation\n",
    "https://en.wikipedia.org/wiki/Integer_factorization"
   ]
  },
  {
   "cell_type": "markdown",
   "metadata": {},
   "source": [
    "## Primality test\n",
    "\n",
    "1. This holds true for all n: all divisors are less than or equal to n/2\n",
    "2. This holds true for all n: all unique divisors of n are numbers less than or equal to √n  "
   ]
  },
  {
   "cell_type": "code",
   "execution_count": 137,
   "metadata": {},
   "outputs": [],
   "source": [
    "import numpy as np\n",
    "import matplotlib as mpl\n",
    "import matplotlib.pyplot as plt\n",
    "import time\n",
    "\n",
    "mpl.rcParams['figure.figsize'] = (16, 9)\n",
    "mpl.rcParams['axes.grid'] = False"
   ]
  },
  {
   "cell_type": "code",
   "execution_count": 138,
   "metadata": {},
   "outputs": [],
   "source": [
    "def is_prime(n: int) -> bool:\n",
    "    \"\"\"Primality test using 6k+-1 optimization.\"\"\"\n",
    "    if n <= 3:\n",
    "        return n > 1\n",
    "    if not n%2 or not n%3:\n",
    "        return False\n",
    "    i = 5\n",
    "    stop = int(n**0.5)\n",
    "    while i <= stop:\n",
    "        if not n%i or not n%(i + 2):\n",
    "            return False\n",
    "        i += 6\n",
    "    return True"
   ]
  },
  {
   "cell_type": "code",
   "execution_count": 139,
   "metadata": {},
   "outputs": [],
   "source": [
    "roof = 100\n",
    "primes = [x if is_prime(x) else 0 for x in np.arange(0, roof,1) ]\n"
   ]
  },
  {
   "cell_type": "code",
   "execution_count": 140,
   "metadata": {},
   "outputs": [
    {
     "data": {
      "image/png": "[encoded data removed]",
      "text/plain": [
       "<Figure size 1152x648 with 1 Axes>"
      ]
     },
     "metadata": {
      "needs_background": "light"
     },
     "output_type": "display_data"
    }
   ],
   "source": [
    "plt.title(\"primes\")\n",
    "plt.plot(primes,'.b')\n",
    "plt.grid('-')\n",
    "plt.xlim([0, roof])\n",
    "plt.ylim([0, roof])\n",
    "plt.show()"
   ]
  },
  {
   "cell_type": "markdown",
   "metadata": {},
   "source": [
    "### Trial division"
   ]
  },
  {
   "cell_type": "code",
   "execution_count": 141,
   "metadata": {},
   "outputs": [],
   "source": [
    "primes = [x for x in np.arange(0, 100,1) if is_prime(x) ]"
   ]
  },
  {
   "cell_type": "code",
   "execution_count": 142,
   "metadata": {},
   "outputs": [],
   "source": [
    "def trial_division(n: int) -> list[int]:\n",
    "    \"\"\"Return a list of the prime factors for a natural number.\"\"\"\n",
    "    a = []               # Prepare an empty list.\n",
    "    f = 2                # The first possible factor.    \n",
    "    while n > 1:         # While n still has remaining factors...\n",
    "        if n % f == 0:   # The remainder of n divided by f might be zero.        \n",
    "            a.append(f)  # If so, it divides n. Add f to the list.\n",
    "            n //= f       # Divide that factor out of n.\n",
    "        else:            # But if f is not a factor of n,\n",
    "            f += 1       # Add one to f and try again.\n",
    "    return a             # Prime factors may be repeated: 12 factors to 2,2,3."
   ]
  },
  {
   "cell_type": "code",
   "execution_count": 143,
   "metadata": {},
   "outputs": [],
   "source": [
    "def trial_division_opti(n: int) -> list[int]:\n",
    "    a = []\n",
    "    while n % 2 == 0:\n",
    "        a.append(2)\n",
    "        n //= 2\n",
    "    f = 3\n",
    "    while f * f <= n:\n",
    "        if n % f == 0:\n",
    "            a.append(f)\n",
    "            n //= f\n",
    "        else:\n",
    "            f += 2\n",
    "    if n != 1: a.append(n)\n",
    "    # Only odd number is possible\n",
    "    return a"
   ]
  },
  {
   "cell_type": "code",
   "execution_count": 177,
   "metadata": {},
   "outputs": [],
   "source": [
    "from ttictoc import tic,toc"
   ]
  },
  {
   "cell_type": "code",
   "execution_count": 186,
   "metadata": {},
   "outputs": [
    {
     "name": "stdout",
     "output_type": "stream",
     "text": [
      "[2, 2, 7, 7, 7, 137, 522521]\n",
      "0.022916500001883833\n"
     ]
    }
   ],
   "source": [
    "tic()\n",
    "print(trial_division(98215137244))\n",
    "\n",
    "print(toc())"
   ]
  },
  {
   "cell_type": "code",
   "execution_count": 185,
   "metadata": {},
   "outputs": [
    {
     "name": "stdout",
     "output_type": "stream",
     "text": [
      "[3, 5, 29, 2257819247]\n",
      "0.0018536999996285886\n"
     ]
    }
   ],
   "source": [
    "tic()\n",
    "\n",
    "print(trial_division_opti(982151372445))\n",
    "\n",
    "print(toc())"
   ]
  },
  {
   "cell_type": "markdown",
   "metadata": {},
   "source": [
    "### Wheel factorization"
   ]
  },
  {
   "cell_type": "code",
   "execution_count": null,
   "metadata": {},
   "outputs": [],
   "source": []
  }
 ],
 "metadata": {
  "kernelspec": {
   "display_name": "Python 3.10.4 64-bit",
   "language": "python",
   "name": "python3"
  },
  "language_info": {
   "codemirror_mode": {
    "name": "ipython",
    "version": 3
   },
   "file_extension": ".py",
   "mimetype": "text/x-python",
   "name": "python",
   "nbconvert_exporter": "python",
   "pygments_lexer": "ipython3",
   "version": "3.10.4"
  },
  "orig_nbformat": 4,
  "vscode": {
   "interpreter": {
    "hash": "a395d9423adaaf2a7bd21c71241ddc32c2d2b51cdf5d8fb0285f4a2631350060"
   }
  }
 },
 "nbformat": 4,
 "nbformat_minor": 2
}
